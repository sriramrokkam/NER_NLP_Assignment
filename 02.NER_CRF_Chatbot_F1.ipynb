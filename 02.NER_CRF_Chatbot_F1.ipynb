{
  "cells": [
    {
      "cell_type": "markdown",
      "metadata": {
        "id": "MsnYUv6-4h_l"
      },
      "source": [
        "## Assignment 1 - Named Entity Recognition using CRF model\n",
        "## 02.CRF-Testing Program\n",
        "## Group 8\n",
        "### Anurag Maharshi - 2023MT12125\n",
        "### SRIRAM ROKKAM - 2023MT12251\n",
        "### GODLAVEETI ANIL GOVIND - 2023MT12272\n",
        "### KORUKONDA SOWMYA - 2023MT12203\n",
        "### VIGNESHWARAN K R - 2023mt12091"
      ]
    },
    {
      "cell_type": "code",
      "execution_count": 16,
      "metadata": {},
      "outputs": [
        {
          "name": "stdout",
          "output_type": "stream",
          "text": [
            "Requirement already satisfied: sklearn-crfsuite in /Users/I310202/anaconda3/envs/env_nlp/lib/python3.10/site-packages (0.5.0)\n",
            "Requirement already satisfied: python-crfsuite>=0.9.7 in /Users/I310202/anaconda3/envs/env_nlp/lib/python3.10/site-packages (from sklearn-crfsuite) (0.9.11)\n",
            "Requirement already satisfied: scikit-learn>=0.24.0 in /Users/I310202/anaconda3/envs/env_nlp/lib/python3.10/site-packages (from sklearn-crfsuite) (1.5.2)\n",
            "Requirement already satisfied: tabulate>=0.4.2 in /Users/I310202/anaconda3/envs/env_nlp/lib/python3.10/site-packages (from sklearn-crfsuite) (0.9.0)\n",
            "Requirement already satisfied: tqdm>=2.0 in /Users/I310202/anaconda3/envs/env_nlp/lib/python3.10/site-packages (from sklearn-crfsuite) (4.66.5)\n",
            "Requirement already satisfied: numpy>=1.19.5 in /Users/I310202/anaconda3/envs/env_nlp/lib/python3.10/site-packages (from scikit-learn>=0.24.0->sklearn-crfsuite) (2.0.2)\n",
            "Requirement already satisfied: scipy>=1.6.0 in /Users/I310202/anaconda3/envs/env_nlp/lib/python3.10/site-packages (from scikit-learn>=0.24.0->sklearn-crfsuite) (1.13.1)\n",
            "Requirement already satisfied: joblib>=1.2.0 in /Users/I310202/anaconda3/envs/env_nlp/lib/python3.10/site-packages (from scikit-learn>=0.24.0->sklearn-crfsuite) (1.4.2)\n",
            "Requirement already satisfied: threadpoolctl>=3.1.0 in /Users/I310202/anaconda3/envs/env_nlp/lib/python3.10/site-packages (from scikit-learn>=0.24.0->sklearn-crfsuite) (3.5.0)\n",
            "Requirement already satisfied: simpletransformers in /Users/I310202/anaconda3/envs/env_nlp/lib/python3.10/site-packages (0.70.1)\n",
            "Requirement already satisfied: numpy in /Users/I310202/anaconda3/envs/env_nlp/lib/python3.10/site-packages (from simpletransformers) (2.0.2)\n",
            "Requirement already satisfied: requests in /Users/I310202/anaconda3/envs/env_nlp/lib/python3.10/site-packages (from simpletransformers) (2.32.3)\n",
            "Requirement already satisfied: tqdm>=4.47.0 in /Users/I310202/anaconda3/envs/env_nlp/lib/python3.10/site-packages (from simpletransformers) (4.66.5)\n",
            "Requirement already satisfied: regex in /Users/I310202/anaconda3/envs/env_nlp/lib/python3.10/site-packages (from simpletransformers) (2024.9.11)\n",
            "Requirement already satisfied: transformers>=4.31.0 in /Users/I310202/anaconda3/envs/env_nlp/lib/python3.10/site-packages (from simpletransformers) (4.45.2)\n",
            "Requirement already satisfied: datasets in /Users/I310202/anaconda3/envs/env_nlp/lib/python3.10/site-packages (from simpletransformers) (3.0.1)\n",
            "Requirement already satisfied: scipy in /Users/I310202/anaconda3/envs/env_nlp/lib/python3.10/site-packages (from simpletransformers) (1.13.1)\n",
            "Requirement already satisfied: scikit-learn in /Users/I310202/anaconda3/envs/env_nlp/lib/python3.10/site-packages (from simpletransformers) (1.5.2)\n",
            "Requirement already satisfied: seqeval in /Users/I310202/anaconda3/envs/env_nlp/lib/python3.10/site-packages (from simpletransformers) (1.2.2)\n",
            "Requirement already satisfied: tensorboard in /Users/I310202/anaconda3/envs/env_nlp/lib/python3.10/site-packages (from simpletransformers) (2.17.1)\n",
            "Requirement already satisfied: tensorboardx in /Users/I310202/anaconda3/envs/env_nlp/lib/python3.10/site-packages (from simpletransformers) (2.6.2.2)\n",
            "Requirement already satisfied: pandas in /Users/I310202/anaconda3/envs/env_nlp/lib/python3.10/site-packages (from simpletransformers) (2.2.3)\n",
            "Requirement already satisfied: tokenizers in /Users/I310202/anaconda3/envs/env_nlp/lib/python3.10/site-packages (from simpletransformers) (0.20.1)\n",
            "Requirement already satisfied: wandb>=0.10.32 in /Users/I310202/anaconda3/envs/env_nlp/lib/python3.10/site-packages (from simpletransformers) (0.18.3)\n",
            "Requirement already satisfied: streamlit in /Users/I310202/anaconda3/envs/env_nlp/lib/python3.10/site-packages (from simpletransformers) (1.39.0)\n",
            "Requirement already satisfied: sentencepiece in /Users/I310202/anaconda3/envs/env_nlp/lib/python3.10/site-packages (from simpletransformers) (0.2.0)\n",
            "Requirement already satisfied: filelock in /Users/I310202/anaconda3/envs/env_nlp/lib/python3.10/site-packages (from transformers>=4.31.0->simpletransformers) (3.16.1)\n",
            "Requirement already satisfied: huggingface-hub<1.0,>=0.23.2 in /Users/I310202/anaconda3/envs/env_nlp/lib/python3.10/site-packages (from transformers>=4.31.0->simpletransformers) (0.25.2)\n",
            "Requirement already satisfied: packaging>=20.0 in /Users/I310202/anaconda3/envs/env_nlp/lib/python3.10/site-packages (from transformers>=4.31.0->simpletransformers) (24.1)\n",
            "Requirement already satisfied: pyyaml>=5.1 in /Users/I310202/anaconda3/envs/env_nlp/lib/python3.10/site-packages (from transformers>=4.31.0->simpletransformers) (6.0.2)\n",
            "Requirement already satisfied: safetensors>=0.4.1 in /Users/I310202/anaconda3/envs/env_nlp/lib/python3.10/site-packages (from transformers>=4.31.0->simpletransformers) (0.4.5)\n",
            "Requirement already satisfied: click!=8.0.0,>=7.1 in /Users/I310202/anaconda3/envs/env_nlp/lib/python3.10/site-packages (from wandb>=0.10.32->simpletransformers) (8.1.7)\n",
            "Requirement already satisfied: docker-pycreds>=0.4.0 in /Users/I310202/anaconda3/envs/env_nlp/lib/python3.10/site-packages (from wandb>=0.10.32->simpletransformers) (0.4.0)\n",
            "Requirement already satisfied: gitpython!=3.1.29,>=1.0.0 in /Users/I310202/anaconda3/envs/env_nlp/lib/python3.10/site-packages (from wandb>=0.10.32->simpletransformers) (3.1.43)\n",
            "Requirement already satisfied: platformdirs in /Users/I310202/anaconda3/envs/env_nlp/lib/python3.10/site-packages (from wandb>=0.10.32->simpletransformers) (4.3.6)\n",
            "Requirement already satisfied: protobuf!=4.21.0,!=5.28.0,<6,>=3.19.0 in /Users/I310202/anaconda3/envs/env_nlp/lib/python3.10/site-packages (from wandb>=0.10.32->simpletransformers) (4.25.5)\n",
            "Requirement already satisfied: psutil>=5.0.0 in /Users/I310202/anaconda3/envs/env_nlp/lib/python3.10/site-packages (from wandb>=0.10.32->simpletransformers) (6.0.0)\n",
            "Requirement already satisfied: sentry-sdk>=1.0.0 in /Users/I310202/anaconda3/envs/env_nlp/lib/python3.10/site-packages (from wandb>=0.10.32->simpletransformers) (2.16.0)\n",
            "Requirement already satisfied: setproctitle in /Users/I310202/anaconda3/envs/env_nlp/lib/python3.10/site-packages (from wandb>=0.10.32->simpletransformers) (1.3.3)\n",
            "Requirement already satisfied: setuptools in /Users/I310202/anaconda3/envs/env_nlp/lib/python3.10/site-packages (from wandb>=0.10.32->simpletransformers) (75.1.0)\n",
            "Requirement already satisfied: charset-normalizer<4,>=2 in /Users/I310202/anaconda3/envs/env_nlp/lib/python3.10/site-packages (from requests->simpletransformers) (3.4.0)\n",
            "Requirement already satisfied: idna<4,>=2.5 in /Users/I310202/anaconda3/envs/env_nlp/lib/python3.10/site-packages (from requests->simpletransformers) (3.10)\n",
            "Requirement already satisfied: urllib3<3,>=1.21.1 in /Users/I310202/anaconda3/envs/env_nlp/lib/python3.10/site-packages (from requests->simpletransformers) (2.2.3)\n",
            "Requirement already satisfied: certifi>=2017.4.17 in /Users/I310202/anaconda3/envs/env_nlp/lib/python3.10/site-packages (from requests->simpletransformers) (2024.8.30)\n",
            "Requirement already satisfied: pyarrow>=15.0.0 in /Users/I310202/anaconda3/envs/env_nlp/lib/python3.10/site-packages (from datasets->simpletransformers) (17.0.0)\n",
            "Requirement already satisfied: dill<0.3.9,>=0.3.0 in /Users/I310202/anaconda3/envs/env_nlp/lib/python3.10/site-packages (from datasets->simpletransformers) (0.3.8)\n",
            "Requirement already satisfied: xxhash in /Users/I310202/anaconda3/envs/env_nlp/lib/python3.10/site-packages (from datasets->simpletransformers) (3.5.0)\n",
            "Requirement already satisfied: multiprocess in /Users/I310202/anaconda3/envs/env_nlp/lib/python3.10/site-packages (from datasets->simpletransformers) (0.70.16)\n",
            "Requirement already satisfied: fsspec<=2024.6.1,>=2023.1.0 in /Users/I310202/anaconda3/envs/env_nlp/lib/python3.10/site-packages (from fsspec[http]<=2024.6.1,>=2023.1.0->datasets->simpletransformers) (2024.6.1)\n",
            "Requirement already satisfied: aiohttp in /Users/I310202/anaconda3/envs/env_nlp/lib/python3.10/site-packages (from datasets->simpletransformers) (3.10.10)\n",
            "Requirement already satisfied: python-dateutil>=2.8.2 in /Users/I310202/anaconda3/envs/env_nlp/lib/python3.10/site-packages (from pandas->simpletransformers) (2.9.0)\n",
            "Requirement already satisfied: pytz>=2020.1 in /Users/I310202/anaconda3/envs/env_nlp/lib/python3.10/site-packages (from pandas->simpletransformers) (2024.2)\n",
            "Requirement already satisfied: tzdata>=2022.7 in /Users/I310202/anaconda3/envs/env_nlp/lib/python3.10/site-packages (from pandas->simpletransformers) (2024.2)\n",
            "Requirement already satisfied: joblib>=1.2.0 in /Users/I310202/anaconda3/envs/env_nlp/lib/python3.10/site-packages (from scikit-learn->simpletransformers) (1.4.2)\n",
            "Requirement already satisfied: threadpoolctl>=3.1.0 in /Users/I310202/anaconda3/envs/env_nlp/lib/python3.10/site-packages (from scikit-learn->simpletransformers) (3.5.0)\n",
            "Requirement already satisfied: altair<6,>=4.0 in /Users/I310202/anaconda3/envs/env_nlp/lib/python3.10/site-packages (from streamlit->simpletransformers) (5.4.1)\n",
            "Requirement already satisfied: blinker<2,>=1.0.0 in /Users/I310202/anaconda3/envs/env_nlp/lib/python3.10/site-packages (from streamlit->simpletransformers) (1.8.2)\n",
            "Requirement already satisfied: cachetools<6,>=4.0 in /Users/I310202/anaconda3/envs/env_nlp/lib/python3.10/site-packages (from streamlit->simpletransformers) (5.5.0)\n",
            "Requirement already satisfied: pillow<11,>=7.1.0 in /Users/I310202/anaconda3/envs/env_nlp/lib/python3.10/site-packages (from streamlit->simpletransformers) (10.4.0)\n",
            "Requirement already satisfied: rich<14,>=10.14.0 in /Users/I310202/anaconda3/envs/env_nlp/lib/python3.10/site-packages (from streamlit->simpletransformers) (13.9.2)\n",
            "Requirement already satisfied: tenacity<10,>=8.1.0 in /Users/I310202/anaconda3/envs/env_nlp/lib/python3.10/site-packages (from streamlit->simpletransformers) (9.0.0)\n",
            "Requirement already satisfied: toml<2,>=0.10.1 in /Users/I310202/anaconda3/envs/env_nlp/lib/python3.10/site-packages (from streamlit->simpletransformers) (0.10.2)\n",
            "Requirement already satisfied: typing-extensions<5,>=4.3.0 in /Users/I310202/anaconda3/envs/env_nlp/lib/python3.10/site-packages (from streamlit->simpletransformers) (4.12.2)\n",
            "Requirement already satisfied: pydeck<1,>=0.8.0b4 in /Users/I310202/anaconda3/envs/env_nlp/lib/python3.10/site-packages (from streamlit->simpletransformers) (0.9.1)\n",
            "Requirement already satisfied: tornado<7,>=6.0.3 in /Users/I310202/anaconda3/envs/env_nlp/lib/python3.10/site-packages (from streamlit->simpletransformers) (6.4.1)\n",
            "Requirement already satisfied: absl-py>=0.4 in /Users/I310202/anaconda3/envs/env_nlp/lib/python3.10/site-packages (from tensorboard->simpletransformers) (2.1.0)\n",
            "Requirement already satisfied: grpcio>=1.48.2 in /Users/I310202/anaconda3/envs/env_nlp/lib/python3.10/site-packages (from tensorboard->simpletransformers) (1.66.2)\n",
            "Requirement already satisfied: markdown>=2.6.8 in /Users/I310202/anaconda3/envs/env_nlp/lib/python3.10/site-packages (from tensorboard->simpletransformers) (3.7)\n",
            "Requirement already satisfied: six>1.9 in /Users/I310202/anaconda3/envs/env_nlp/lib/python3.10/site-packages (from tensorboard->simpletransformers) (1.16.0)\n",
            "Requirement already satisfied: tensorboard-data-server<0.8.0,>=0.7.0 in /Users/I310202/anaconda3/envs/env_nlp/lib/python3.10/site-packages (from tensorboard->simpletransformers) (0.7.2)\n",
            "Requirement already satisfied: werkzeug>=1.0.1 in /Users/I310202/anaconda3/envs/env_nlp/lib/python3.10/site-packages (from tensorboard->simpletransformers) (3.0.4)\n",
            "Requirement already satisfied: jinja2 in /Users/I310202/anaconda3/envs/env_nlp/lib/python3.10/site-packages (from altair<6,>=4.0->streamlit->simpletransformers) (3.1.4)\n",
            "Requirement already satisfied: jsonschema>=3.0 in /Users/I310202/anaconda3/envs/env_nlp/lib/python3.10/site-packages (from altair<6,>=4.0->streamlit->simpletransformers) (4.23.0)\n",
            "Requirement already satisfied: narwhals>=1.5.2 in /Users/I310202/anaconda3/envs/env_nlp/lib/python3.10/site-packages (from altair<6,>=4.0->streamlit->simpletransformers) (1.9.3)\n",
            "Requirement already satisfied: aiohappyeyeballs>=2.3.0 in /Users/I310202/anaconda3/envs/env_nlp/lib/python3.10/site-packages (from aiohttp->datasets->simpletransformers) (2.4.3)\n",
            "Requirement already satisfied: aiosignal>=1.1.2 in /Users/I310202/anaconda3/envs/env_nlp/lib/python3.10/site-packages (from aiohttp->datasets->simpletransformers) (1.3.1)\n",
            "Requirement already satisfied: attrs>=17.3.0 in /Users/I310202/anaconda3/envs/env_nlp/lib/python3.10/site-packages (from aiohttp->datasets->simpletransformers) (24.2.0)\n",
            "Requirement already satisfied: frozenlist>=1.1.1 in /Users/I310202/anaconda3/envs/env_nlp/lib/python3.10/site-packages (from aiohttp->datasets->simpletransformers) (1.4.1)\n",
            "Requirement already satisfied: multidict<7.0,>=4.5 in /Users/I310202/anaconda3/envs/env_nlp/lib/python3.10/site-packages (from aiohttp->datasets->simpletransformers) (6.1.0)\n",
            "Requirement already satisfied: yarl<2.0,>=1.12.0 in /Users/I310202/anaconda3/envs/env_nlp/lib/python3.10/site-packages (from aiohttp->datasets->simpletransformers) (1.15.3)\n",
            "Requirement already satisfied: async-timeout<5.0,>=4.0 in /Users/I310202/anaconda3/envs/env_nlp/lib/python3.10/site-packages (from aiohttp->datasets->simpletransformers) (4.0.3)\n",
            "Requirement already satisfied: gitdb<5,>=4.0.1 in /Users/I310202/anaconda3/envs/env_nlp/lib/python3.10/site-packages (from gitpython!=3.1.29,>=1.0.0->wandb>=0.10.32->simpletransformers) (4.0.11)\n",
            "Requirement already satisfied: markdown-it-py>=2.2.0 in /Users/I310202/anaconda3/envs/env_nlp/lib/python3.10/site-packages (from rich<14,>=10.14.0->streamlit->simpletransformers) (3.0.0)\n",
            "Requirement already satisfied: pygments<3.0.0,>=2.13.0 in /Users/I310202/anaconda3/envs/env_nlp/lib/python3.10/site-packages (from rich<14,>=10.14.0->streamlit->simpletransformers) (2.18.0)\n",
            "Requirement already satisfied: MarkupSafe>=2.1.1 in /Users/I310202/anaconda3/envs/env_nlp/lib/python3.10/site-packages (from werkzeug>=1.0.1->tensorboard->simpletransformers) (3.0.1)\n",
            "Requirement already satisfied: smmap<6,>=3.0.1 in /Users/I310202/anaconda3/envs/env_nlp/lib/python3.10/site-packages (from gitdb<5,>=4.0.1->gitpython!=3.1.29,>=1.0.0->wandb>=0.10.32->simpletransformers) (5.0.1)\n",
            "Requirement already satisfied: jsonschema-specifications>=2023.03.6 in /Users/I310202/anaconda3/envs/env_nlp/lib/python3.10/site-packages (from jsonschema>=3.0->altair<6,>=4.0->streamlit->simpletransformers) (2024.10.1)\n",
            "Requirement already satisfied: referencing>=0.28.4 in /Users/I310202/anaconda3/envs/env_nlp/lib/python3.10/site-packages (from jsonschema>=3.0->altair<6,>=4.0->streamlit->simpletransformers) (0.35.1)\n",
            "Requirement already satisfied: rpds-py>=0.7.1 in /Users/I310202/anaconda3/envs/env_nlp/lib/python3.10/site-packages (from jsonschema>=3.0->altair<6,>=4.0->streamlit->simpletransformers) (0.20.0)\n",
            "Requirement already satisfied: mdurl~=0.1 in /Users/I310202/anaconda3/envs/env_nlp/lib/python3.10/site-packages (from markdown-it-py>=2.2.0->rich<14,>=10.14.0->streamlit->simpletransformers) (0.1.2)\n",
            "Requirement already satisfied: propcache>=0.2.0 in /Users/I310202/anaconda3/envs/env_nlp/lib/python3.10/site-packages (from yarl<2.0,>=1.12.0->aiohttp->datasets->simpletransformers) (0.2.0)\n",
            "Requirement already satisfied: gdown in /Users/I310202/anaconda3/envs/env_nlp/lib/python3.10/site-packages (5.2.0)\n",
            "Requirement already satisfied: beautifulsoup4 in /Users/I310202/anaconda3/envs/env_nlp/lib/python3.10/site-packages (from gdown) (4.12.3)\n",
            "Requirement already satisfied: filelock in /Users/I310202/anaconda3/envs/env_nlp/lib/python3.10/site-packages (from gdown) (3.16.1)\n",
            "Requirement already satisfied: requests[socks] in /Users/I310202/anaconda3/envs/env_nlp/lib/python3.10/site-packages (from gdown) (2.32.3)\n",
            "Requirement already satisfied: tqdm in /Users/I310202/anaconda3/envs/env_nlp/lib/python3.10/site-packages (from gdown) (4.66.5)\n",
            "Requirement already satisfied: soupsieve>1.2 in /Users/I310202/anaconda3/envs/env_nlp/lib/python3.10/site-packages (from beautifulsoup4->gdown) (2.6)\n",
            "Requirement already satisfied: charset-normalizer<4,>=2 in /Users/I310202/anaconda3/envs/env_nlp/lib/python3.10/site-packages (from requests[socks]->gdown) (3.4.0)\n",
            "Requirement already satisfied: idna<4,>=2.5 in /Users/I310202/anaconda3/envs/env_nlp/lib/python3.10/site-packages (from requests[socks]->gdown) (3.10)\n",
            "Requirement already satisfied: urllib3<3,>=1.21.1 in /Users/I310202/anaconda3/envs/env_nlp/lib/python3.10/site-packages (from requests[socks]->gdown) (2.2.3)\n",
            "Requirement already satisfied: certifi>=2017.4.17 in /Users/I310202/anaconda3/envs/env_nlp/lib/python3.10/site-packages (from requests[socks]->gdown) (2024.8.30)\n",
            "Requirement already satisfied: PySocks!=1.5.7,>=1.5.6 in /Users/I310202/anaconda3/envs/env_nlp/lib/python3.10/site-packages (from requests[socks]->gdown) (1.7.1)\n",
            "Requirement already satisfied: spacy in /Users/I310202/anaconda3/envs/env_nlp/lib/python3.10/site-packages (3.8.2)\n",
            "Requirement already satisfied: spacy-legacy<3.1.0,>=3.0.11 in /Users/I310202/anaconda3/envs/env_nlp/lib/python3.10/site-packages (from spacy) (3.0.12)\n",
            "Requirement already satisfied: spacy-loggers<2.0.0,>=1.0.0 in /Users/I310202/anaconda3/envs/env_nlp/lib/python3.10/site-packages (from spacy) (1.0.5)\n",
            "Requirement already satisfied: murmurhash<1.1.0,>=0.28.0 in /Users/I310202/anaconda3/envs/env_nlp/lib/python3.10/site-packages (from spacy) (1.0.10)\n",
            "Requirement already satisfied: cymem<2.1.0,>=2.0.2 in /Users/I310202/anaconda3/envs/env_nlp/lib/python3.10/site-packages (from spacy) (2.0.8)\n",
            "Requirement already satisfied: preshed<3.1.0,>=3.0.2 in /Users/I310202/anaconda3/envs/env_nlp/lib/python3.10/site-packages (from spacy) (3.0.9)\n",
            "Requirement already satisfied: thinc<8.4.0,>=8.3.0 in /Users/I310202/anaconda3/envs/env_nlp/lib/python3.10/site-packages (from spacy) (8.3.2)\n",
            "Requirement already satisfied: wasabi<1.2.0,>=0.9.1 in /Users/I310202/anaconda3/envs/env_nlp/lib/python3.10/site-packages (from spacy) (1.1.3)\n",
            "Requirement already satisfied: srsly<3.0.0,>=2.4.3 in /Users/I310202/anaconda3/envs/env_nlp/lib/python3.10/site-packages (from spacy) (2.4.8)\n",
            "Requirement already satisfied: catalogue<2.1.0,>=2.0.6 in /Users/I310202/anaconda3/envs/env_nlp/lib/python3.10/site-packages (from spacy) (2.0.10)\n",
            "Requirement already satisfied: weasel<0.5.0,>=0.1.0 in /Users/I310202/anaconda3/envs/env_nlp/lib/python3.10/site-packages (from spacy) (0.4.1)\n",
            "Requirement already satisfied: typer<1.0.0,>=0.3.0 in /Users/I310202/anaconda3/envs/env_nlp/lib/python3.10/site-packages (from spacy) (0.12.5)\n",
            "Requirement already satisfied: tqdm<5.0.0,>=4.38.0 in /Users/I310202/anaconda3/envs/env_nlp/lib/python3.10/site-packages (from spacy) (4.66.5)\n",
            "Requirement already satisfied: requests<3.0.0,>=2.13.0 in /Users/I310202/anaconda3/envs/env_nlp/lib/python3.10/site-packages (from spacy) (2.32.3)\n",
            "Requirement already satisfied: pydantic!=1.8,!=1.8.1,<3.0.0,>=1.7.4 in /Users/I310202/anaconda3/envs/env_nlp/lib/python3.10/site-packages (from spacy) (2.9.2)\n",
            "Requirement already satisfied: jinja2 in /Users/I310202/anaconda3/envs/env_nlp/lib/python3.10/site-packages (from spacy) (3.1.4)\n",
            "Requirement already satisfied: setuptools in /Users/I310202/anaconda3/envs/env_nlp/lib/python3.10/site-packages (from spacy) (75.1.0)\n",
            "Requirement already satisfied: packaging>=20.0 in /Users/I310202/anaconda3/envs/env_nlp/lib/python3.10/site-packages (from spacy) (24.1)\n",
            "Requirement already satisfied: langcodes<4.0.0,>=3.2.0 in /Users/I310202/anaconda3/envs/env_nlp/lib/python3.10/site-packages (from spacy) (3.4.1)\n",
            "Requirement already satisfied: numpy>=1.19.0 in /Users/I310202/anaconda3/envs/env_nlp/lib/python3.10/site-packages (from spacy) (2.0.2)\n",
            "Requirement already satisfied: language-data>=1.2 in /Users/I310202/anaconda3/envs/env_nlp/lib/python3.10/site-packages (from langcodes<4.0.0,>=3.2.0->spacy) (1.2.0)\n",
            "Requirement already satisfied: annotated-types>=0.6.0 in /Users/I310202/anaconda3/envs/env_nlp/lib/python3.10/site-packages (from pydantic!=1.8,!=1.8.1,<3.0.0,>=1.7.4->spacy) (0.7.0)\n",
            "Requirement already satisfied: pydantic-core==2.23.4 in /Users/I310202/anaconda3/envs/env_nlp/lib/python3.10/site-packages (from pydantic!=1.8,!=1.8.1,<3.0.0,>=1.7.4->spacy) (2.23.4)\n",
            "Requirement already satisfied: typing-extensions>=4.6.1 in /Users/I310202/anaconda3/envs/env_nlp/lib/python3.10/site-packages (from pydantic!=1.8,!=1.8.1,<3.0.0,>=1.7.4->spacy) (4.12.2)\n",
            "Requirement already satisfied: charset-normalizer<4,>=2 in /Users/I310202/anaconda3/envs/env_nlp/lib/python3.10/site-packages (from requests<3.0.0,>=2.13.0->spacy) (3.4.0)\n",
            "Requirement already satisfied: idna<4,>=2.5 in /Users/I310202/anaconda3/envs/env_nlp/lib/python3.10/site-packages (from requests<3.0.0,>=2.13.0->spacy) (3.10)\n",
            "Requirement already satisfied: urllib3<3,>=1.21.1 in /Users/I310202/anaconda3/envs/env_nlp/lib/python3.10/site-packages (from requests<3.0.0,>=2.13.0->spacy) (2.2.3)\n",
            "Requirement already satisfied: certifi>=2017.4.17 in /Users/I310202/anaconda3/envs/env_nlp/lib/python3.10/site-packages (from requests<3.0.0,>=2.13.0->spacy) (2024.8.30)\n",
            "Requirement already satisfied: blis<1.1.0,>=1.0.0 in /Users/I310202/anaconda3/envs/env_nlp/lib/python3.10/site-packages (from thinc<8.4.0,>=8.3.0->spacy) (1.0.1)\n",
            "Requirement already satisfied: confection<1.0.0,>=0.0.1 in /Users/I310202/anaconda3/envs/env_nlp/lib/python3.10/site-packages (from thinc<8.4.0,>=8.3.0->spacy) (0.1.5)\n",
            "Requirement already satisfied: click>=8.0.0 in /Users/I310202/anaconda3/envs/env_nlp/lib/python3.10/site-packages (from typer<1.0.0,>=0.3.0->spacy) (8.1.7)\n",
            "Requirement already satisfied: shellingham>=1.3.0 in /Users/I310202/anaconda3/envs/env_nlp/lib/python3.10/site-packages (from typer<1.0.0,>=0.3.0->spacy) (1.5.4)\n",
            "Requirement already satisfied: rich>=10.11.0 in /Users/I310202/anaconda3/envs/env_nlp/lib/python3.10/site-packages (from typer<1.0.0,>=0.3.0->spacy) (13.9.2)\n",
            "Requirement already satisfied: cloudpathlib<1.0.0,>=0.7.0 in /Users/I310202/anaconda3/envs/env_nlp/lib/python3.10/site-packages (from weasel<0.5.0,>=0.1.0->spacy) (0.20.0)\n",
            "Requirement already satisfied: smart-open<8.0.0,>=5.2.1 in /Users/I310202/anaconda3/envs/env_nlp/lib/python3.10/site-packages (from weasel<0.5.0,>=0.1.0->spacy) (7.0.5)\n",
            "Requirement already satisfied: MarkupSafe>=2.0 in /Users/I310202/anaconda3/envs/env_nlp/lib/python3.10/site-packages (from jinja2->spacy) (3.0.1)\n",
            "Requirement already satisfied: marisa-trie>=0.7.7 in /Users/I310202/anaconda3/envs/env_nlp/lib/python3.10/site-packages (from language-data>=1.2->langcodes<4.0.0,>=3.2.0->spacy) (1.2.1)\n",
            "Requirement already satisfied: markdown-it-py>=2.2.0 in /Users/I310202/anaconda3/envs/env_nlp/lib/python3.10/site-packages (from rich>=10.11.0->typer<1.0.0,>=0.3.0->spacy) (3.0.0)\n",
            "Requirement already satisfied: pygments<3.0.0,>=2.13.0 in /Users/I310202/anaconda3/envs/env_nlp/lib/python3.10/site-packages (from rich>=10.11.0->typer<1.0.0,>=0.3.0->spacy) (2.18.0)\n",
            "Requirement already satisfied: wrapt in /Users/I310202/anaconda3/envs/env_nlp/lib/python3.10/site-packages (from smart-open<8.0.0,>=5.2.1->weasel<0.5.0,>=0.1.0->spacy) (1.16.0)\n",
            "Requirement already satisfied: mdurl~=0.1 in /Users/I310202/anaconda3/envs/env_nlp/lib/python3.10/site-packages (from markdown-it-py>=2.2.0->rich>=10.11.0->typer<1.0.0,>=0.3.0->spacy) (0.1.2)\n"
          ]
        }
      ],
      "source": [
        "!pip install sklearn-crfsuite\n",
        "!pip install simpletransformers\n",
        "!pip install gdown\n",
        "!pip install spacy"
      ]
    },
    {
      "cell_type": "code",
      "execution_count": 17,
      "metadata": {
        "id": "qcLa7ci6qzz1"
      },
      "outputs": [],
      "source": [
        "import joblib\n",
        "import gdown\n",
        "import spacy"
      ]
    },
    {
      "cell_type": "markdown",
      "metadata": {
        "id": "vHPuhegFuqXg"
      },
      "source": [
        "## 02. Function to download the trained and saved model (.pkl file) from Google Drive using file ID"
      ]
    },
    {
      "cell_type": "code",
      "execution_count": 18,
      "metadata": {
        "colab": {
          "base_uri": "https://localhost:8080/"
        },
        "id": "bRu8rnwL64FQ",
        "outputId": "c8f1127f-bc7f-44d1-9f90-b39c72c9116c"
      },
      "outputs": [
        {
          "name": "stderr",
          "output_type": "stream",
          "text": [
            "Downloading...\n",
            "From: https://drive.google.com/uc?id=18JYe_hVZYTp2wYASdybLfWl0ieL3r5WY\n",
            "To: /Users/I310202/Library/CloudStorage/OneDrive-wilp.bits-pilani.ac.in/Desktop/03.Sem_03/ZG599-NLP/Assignment_1/F1_Versions/crf_model2.pkl\n",
            "100%|██████████| 3.24M/3.24M [00:00<00:00, 6.99MB/s]\n"
          ]
        }
      ],
      "source": [
        "def download_file_from_google_drive(file_id, output_path):\n",
        "    # Create the Google Drive URL\n",
        "    drive_url = f\"https://drive.google.com/uc?id={file_id}\"\n",
        "\n",
        "    # Download the file using gdown\n",
        "    gdown.download(drive_url, output_path, quiet=False)\n",
        "\n",
        "\n",
        "file_id = '18JYe_hVZYTp2wYASdybLfWl0ieL3r5WY'\n",
        "\n",
        "# Define the output path where the file will be saved locally\n",
        "output_path = 'crf_model2.pkl'\n",
        "\n",
        "# Download the pickle file\n",
        "download_file_from_google_drive(file_id, output_path)"
      ]
    },
    {
      "cell_type": "markdown",
      "metadata": {
        "id": "KxicfrtUuzWs"
      },
      "source": [
        "## Load the saved model"
      ]
    },
    {
      "cell_type": "markdown",
      "metadata": {
        "id": "siu6kDuq5fQ9"
      },
      "source": [
        "\n",
        "2. **Feature Extraction (`word2features`)**:\n",
        "   - Each word in the sentence is transformed into a feature dictionary that includes properties like lowercase form, suffixes, capitalization, and POS tag.\n",
        "   - Features for neighboring words are added to capture context, with special flags for the beginning (BOS) and end (EOS) of a sentence."
      ]
    },
    {
      "cell_type": "code",
      "execution_count": 19,
      "metadata": {
        "id": "LD2H72jKTuqA"
      },
      "outputs": [],
      "source": [
        "def word2features(sent, i):\n",
        "    word = sent[i][0]\n",
        "    postag = sent[i][1] if sent[i][1] is not None else \"\"  # Handle None case\n",
        "\n",
        "    features = {\n",
        "        'bias': 1.0,\n",
        "        'word.lower()': word.lower(),\n",
        "        'word[-3:]': word[-3:],\n",
        "        'word[-2:]': word[-2:],\n",
        "        'word.isupper()': word.isupper(),\n",
        "        'word.istitle()': word.istitle(),\n",
        "        'word.isdigit()': word.isdigit(),\n",
        "        'postag': postag,\n",
        "        'postag[:2]': postag[:2],\n",
        "    }\n",
        "\n",
        "    # Add features for the previous word\n",
        "    if i > 0:\n",
        "        prev_word = sent[i - 1][0]\n",
        "        features.update({\n",
        "            '-1:word.lower()': prev_word.lower(),\n",
        "            '-1:word.isupper()': prev_word.isupper(),\n",
        "        })\n",
        "\n",
        "    # Add features for the next word\n",
        "    if i < len(sent) - 1:\n",
        "        next_word = sent[i + 1][0]\n",
        "        features.update({\n",
        "            '+1:word.lower()': next_word.lower(),\n",
        "            '+1:word.isupper()': next_word.isupper(),\n",
        "        })\n",
        "\n",
        "    return features"
      ]
    },
    {
      "cell_type": "markdown",
      "metadata": {
        "id": "IFl54VCL6RTo"
      },
      "source": [
        "3. **Helper Functions**:\n",
        "   - `sent2features(sent)`: Converts an entire sentence into a list of feature dictionaries.\n",
        "   - `sent2labels(sent)`: Extracts true NER labels for each word in the sentence (if available).\n",
        "   - `sent2tokens(sent)`: Extracts word tokens from the sentence.\n",
        "   - `sentence_to_word_pos(sentence)`: Uses spaCy to tag each word in the input sentence with its POS tag.\n",
        "\n",
        "4. **NER Prediction (`predict_sentence`)**:\n",
        "   - Converts the input sentence into features and uses the CRF model to predict NER tags.\n",
        "\n",
        "5. **Full NER Pipeline (`ner_with_crf`)**:\n",
        "   - Takes an input sentence, converts it into POS-tagged word pairs, extracts features, and predicts NER tags.\n",
        "   - Returns a list of words with their predicted NER tags.\n"
      ]
    },
    {
      "cell_type": "code",
      "execution_count": 20,
      "metadata": {
        "id": "NA7CESEY6QDu"
      },
      "outputs": [],
      "source": [
        "def sent2features(sent):\n",
        "    # Convert a sentence into a list of feature dictionaries\n",
        "    return [word2features(sent, i) for i in range(len(sent))]\n",
        "\n",
        "\n",
        "def sent2labels(sent):\n",
        "    # Extract the labels from the sentence\n",
        "    return [label for token, label in sent]\n",
        "\n",
        "\n",
        "def sent2tokens(sent):\n",
        "    # Extract tokens from the sentence\n",
        "    return [token for token, label in sent]\n",
        "\n",
        "\n",
        "def predict_sentence(crf_model, sentence):\n",
        "    # Convert the sentence to features and predict using the CRF model\n",
        "    features = sent2features(sentence)\n",
        "    predicted_tags = crf_model.predict_single(features)\n",
        "    return predicted_tags\n",
        "\n",
        "\n",
        "def ner_with_crf(text):\n",
        "    # Split the text into tokens\n",
        "    tokens = text.split()\n",
        "\n",
        "    # Create a list of tuples for tokens (token, None) since POS is not needed\n",
        "    new_sentence_features = [(token, None) for token in tokens]\n",
        "\n",
        "    # Make predictions using the CRF model\n",
        "    predicted_tags = predict_sentence(crf_model, new_sentence_features)\n",
        "\n",
        "    results = []\n",
        "    for (word, _), tag in zip(new_sentence_features, predicted_tags):\n",
        "        results.append(f\"Word: {word}, Predicted NER Tag: {tag}\")\n",
        "\n",
        "    # Return results as a formatted string\n",
        "    return \"\".join([f\"{result} \\n\" for result in results])"
      ]
    },
    {
      "cell_type": "markdown",
      "metadata": {
        "id": "FvrqXWSo6sYZ"
      },
      "source": [
        "## 03. Build a Continous loop to simulate the chatbot"
      ]
    },
    {
      "cell_type": "code",
      "execution_count": 15,
      "metadata": {
        "colab": {
          "base_uri": "https://localhost:8080/"
        },
        "id": "Z9rHRa4GmNyK",
        "outputId": "5ad2ff45-3d89-4e67-d571-e9a6dc9c80b1"
      },
      "outputs": [
        {
          "name": "stdout",
          "output_type": "stream",
          "text": [
            "Welcome to the NER Chatbot! Enter your text or 'exit' to quit.\n",
            "NER Results:\n",
            " Word: India, Predicted NER Tag: B-geo \n",
            "\n",
            "NER Results:\n",
            " \n",
            "NER Results:\n",
            " Word: Australia, Predicted NER Tag: B-gpe \n",
            "\n",
            "NER Results:\n",
            " Word: India, Predicted NER Tag: B-geo \n",
            "Word: vs, Predicted NER Tag: I-geo \n",
            "Word: Australia, Predicted NER Tag: I-geo \n",
            "\n",
            "NER Results:\n",
            " Word: I, Predicted NER Tag: B-eve \n",
            "Word: love, Predicted NER Tag: I-eve \n",
            "Word: india, Predicted NER Tag: I-eve \n",
            "\n",
            "NER Results:\n",
            " \n"
          ]
        }
      ],
      "source": [
        "# Chatbot loop\n",
        "print(\"Welcome to the NER Chatbot! Enter your text or 'exit' to quit.\")\n",
        "\n",
        "while True:\n",
        "    # Get input from the user\n",
        "    user_input = input(\"You: \")\n",
        "\n",
        "    # Exit condition\n",
        "    if user_input.lower() == 'exit':\n",
        "        print(\"Goodbye!\")\n",
        "        break\n",
        "\n",
        "    # Get NER predictions\n",
        "    ner_results = ner_with_crf(user_input)\n",
        "\n",
        "    # Display the NER results\n",
        "    print(\"NER Results:\\n\", ner_results)"
      ]
    }
  ],
  "metadata": {
    "colab": {
      "provenance": []
    },
    "kernelspec": {
      "display_name": "env_nlp",
      "language": "python",
      "name": "python3"
    },
    "language_info": {
      "codemirror_mode": {
        "name": "ipython",
        "version": 3
      },
      "file_extension": ".py",
      "mimetype": "text/x-python",
      "name": "python",
      "nbconvert_exporter": "python",
      "pygments_lexer": "ipython3",
      "version": "3.10.15"
    }
  },
  "nbformat": 4,
  "nbformat_minor": 0
}
